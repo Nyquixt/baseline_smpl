{
 "cells": [
  {
   "cell_type": "code",
   "execution_count": 2,
   "id": "2a24c886-c1ee-4324-89f2-ec1171602cce",
   "metadata": {},
   "outputs": [],
   "source": [
    "import json\n",
    "import numpy as np\n",
    "import os"
   ]
  },
  {
   "cell_type": "code",
   "execution_count": 3,
   "id": "2a0b06b0-3417-4134-a2a4-9bd1c521f115",
   "metadata": {},
   "outputs": [
    {
     "name": "stdout",
     "output_type": "stream",
     "text": [
      "dict_keys(['images', 'annotations'])\n"
     ]
    }
   ],
   "source": [
    "DATA_DIR = '../data/'\n",
    "\n",
    "with open(os.path.join(DATA_DIR, 'annotations', 'Human36M_subject1_data.json'), 'r') as jsonfile:\n",
    "    data = json.load(jsonfile)\n",
    "print(data.keys())"
   ]
  },
  {
   "cell_type": "code",
   "execution_count": 8,
   "id": "ca388750-9cc2-4843-ac82-d687a8ff2b4a",
   "metadata": {},
   "outputs": [],
   "source": [
    "def beautiful_json(data):\n",
    "    return json.dumps(data, indent=4, sort_keys=True)"
   ]
  },
  {
   "cell_type": "code",
   "execution_count": 9,
   "id": "d9022ec5-0256-422a-96b9-5a27f08ed6ed",
   "metadata": {},
   "outputs": [
    {
     "name": "stdout",
     "output_type": "stream",
     "text": [
      "{\n",
      "    \"action_idx\": 2,\n",
      "    \"action_name\": \"Directions\",\n",
      "    \"cam_idx\": 1,\n",
      "    \"file_name\": \"s_01_act_02_subact_01_ca_01/s_01_act_02_subact_01_ca_01_000001.jpg\",\n",
      "    \"frame_idx\": 0,\n",
      "    \"height\": 1002,\n",
      "    \"id\": 0,\n",
      "    \"subaction_idx\": 1,\n",
      "    \"subject\": 1,\n",
      "    \"width\": 1000\n",
      "}\n"
     ]
    }
   ],
   "source": [
    "print(beautiful_json(data['images'][0]))"
   ]
  },
  {
   "cell_type": "code",
   "execution_count": 12,
   "id": "386dacce-dcb1-4557-8237-3a355eda2f50",
   "metadata": {},
   "outputs": [
    {
     "name": "stdout",
     "output_type": "stream",
     "text": [
      "11980\n"
     ]
    }
   ],
   "source": [
    "print(len([x for x in data['images'] if x[\"action_idx\"] == 2 ]))"
   ]
  },
  {
   "cell_type": "code",
   "execution_count": null,
   "id": "a6e8b116-470c-4f68-9caa-0a7eff36087f",
   "metadata": {},
   "outputs": [],
   "source": []
  }
 ],
 "metadata": {
  "kernelspec": {
   "display_name": "Python 3 (ipykernel)",
   "language": "python",
   "name": "python3"
  },
  "language_info": {
   "codemirror_mode": {
    "name": "ipython",
    "version": 3
   },
   "file_extension": ".py",
   "mimetype": "text/x-python",
   "name": "python",
   "nbconvert_exporter": "python",
   "pygments_lexer": "ipython3",
   "version": "3.9.7"
  }
 },
 "nbformat": 4,
 "nbformat_minor": 5
}
